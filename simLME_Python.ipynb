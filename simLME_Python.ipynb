{
 "cells": [
  {
   "cell_type": "code",
   "execution_count": 1,
   "metadata": {},
   "outputs": [],
   "source": [
    "import numpy as np\n",
    "from scipy.integrate import solve_ivp"
   ]
  },
  {
   "cell_type": "code",
   "execution_count": 83,
   "metadata": {},
   "outputs": [],
   "source": [
    "import h5py\n",
    "\n",
    "def read_drived_evolution(file_name, freq_num):\n",
    "    with h5py.File(file_name, \"r\") as f:\n",
    "        group = f[str(freq_num)]\n",
    "        p0 = group[\"p0\"][:].flatten()\n",
    "        p1 = group[\"p1\"][:].flatten()\n",
    "        s_re = group[\"s_re\"][:].flatten()\n",
    "        s_im = group[\"s_im\"][:].flatten()\n",
    "        t = group[\"t\"][:].flatten()\n",
    "\n",
    "    n = len(t.tolist())\n",
    "       \n",
    "    ρ = [np.zeros((2, 2), dtype=complex) for _ in range(n)]\n",
    "    \n",
    "    for i in range(n):\n",
    "        ρ[i] = np.array([[p0[i], s_re[i] + 1j * s_im[i]],\n",
    "                            [s_re[i] - 1j * s_im[i], p1[i]]])\n",
    "    \n",
    "    return t, ρ"
   ]
  },
  {
   "cell_type": "code",
   "execution_count": 84,
   "metadata": {},
   "outputs": [],
   "source": [
    "freq_num = 25\n",
    "\n",
    "tₑₓ0, ρₑₓ0 = read_drived_evolution(\"DATA/State_B0_SIN_DRIVE_data.h5\", str(freq_num))\n",
    "tₑₓ1, ρₑₓ1 = read_drived_evolution(\"DATA/State_B1_SIN_DRIVE_data.h5\", str(freq_num))\n",
    "tₑₓx, ρₑₓx = read_drived_evolution(\"DATA/State_BX_SIN_DRIVE_data.h5\", str(freq_num))\n",
    "tₑₓy, ρₑₓy = read_drived_evolution(\"DATA/State_BY_SIN_DRIVE_data.h5\", str(freq_num))"
   ]
  },
  {
   "cell_type": "code",
   "execution_count": 85,
   "metadata": {},
   "outputs": [],
   "source": [
    "def bloch_vector(ρ):\n",
    "    \"\"\"\n",
    "    Calculate the Bloch vector from a 2x2 density matrix.\n",
    "    \"\"\"\n",
    "    σ_x = np.array([[0, 1], [1, 0]])  # Pauli-X\n",
    "    σ_y = np.array([[0, -1j], [1j, 0]])  # Pauli-Y\n",
    "    σ_z = np.array([[1, 0], [0, -1]])  # Pauli-Z\n",
    "    \n",
    "    b_x = np.trace(ρ @ σ_x).real\n",
    "    b_y = np.trace(ρ @ σ_y).real\n",
    "    b_z = np.trace(ρ @ σ_z).real\n",
    "    \n",
    "    return np.array([b_x, b_y, b_z])\n",
    "\n",
    "def compute_bloch_vectors(ρ_solution):\n",
    "    \"\"\"\n",
    "    Compute Bloch vectors for all density matrices in the solution.\n",
    "    \"\"\"\n",
    "    return np.array([bloch_vector(ρ) for ρ in ρ_solution])\n",
    "\n",
    "\n",
    "def simulate_bloch(H0, V, J, ρ0, tmax, dt, freq_num):\n",
    "    qubit_freq = 25.133\n",
    "    w = 2 * qubit_freq * (freq_num - 1) / 50\n",
    "    \n",
    "    def L(ρ):\n",
    "        return J @ ρ @ J.conj().T - 0.5 * (J.conj().T @ J @ ρ + ρ @ J.conj().T @ J)\n",
    "    \n",
    "    def Ht(t):\n",
    "        return H0 + V * np.sin(w * t)\n",
    "    \n",
    "    def matrix_ode(t, ρ_flat):\n",
    "        ρ = ρ_flat.reshape((2, 2))\n",
    "        dρ = -1j * (Ht(t) @ ρ - ρ @ Ht(t)) + L(ρ)\n",
    "        return dρ.flatten()\n",
    "    \n",
    "    t_span = (0, tmax)\n",
    "    t_eval = np.arange(0, tmax, dt)\n",
    "    \n",
    "    sol = solve_ivp(matrix_ode, t_span, ρ0.flatten(), t_eval=t_eval, method='RK45')\n",
    "    ρ_solution = sol.y.T.reshape(-1, 2, 2)\n",
    "    \n",
    "    return compute_bloch_vectors(ρ_solution), sol.t"
   ]
  },
  {
   "cell_type": "code",
   "execution_count": 88,
   "metadata": {},
   "outputs": [],
   "source": [
    "H0 = np.array([[25.133, 0.0],\n",
    "               [0.0, -25.133]]) / 2\n",
    "\n",
    "V0 = 1.0\n",
    "V = V0 * np.array([[0, 1],\n",
    "                   [1, 0]])\n",
    "\n",
    "J = np.array([[0, np.sqrt(0.25133)],\n",
    "              [0, 0]])"
   ]
  },
  {
   "cell_type": "code",
   "execution_count": 89,
   "metadata": {},
   "outputs": [],
   "source": [
    "dt = tₑₓ0[2]-tₑₓ0[1]\n",
    "\n",
    "b0, t0 = simulate_bloch(H0, V, J, ρₑₓ0[0], tₑₓ0[-1], dt, freq_num-1)\n",
    "b1, t1 = simulate_bloch(H0, V, J, ρₑₓ1[0], tₑₓ1[-1], dt, freq_num-1)\n",
    "bx, tx = simulate_bloch(H0, V, J, ρₑₓx[0], tₑₓx[-1], dt, freq_num-1)\n",
    "by, ty = simulate_bloch(H0, V, J, ρₑₓy[0], tₑₓy[-1], dt, freq_num-1)"
   ]
  },
  {
   "cell_type": "code",
   "execution_count": 94,
   "metadata": {},
   "outputs": [],
   "source": [
    "def stack_bloch_vectors(b0, b1, bx, by):\n",
    "    \"\"\"\n",
    "    Stack four N x 3 Bloch vector arrays into an N x 12 array.\n",
    "    Truncate arrays to the smallest N if they have different lengths.\n",
    "    \n",
    "    Parameters:\n",
    "        b0, b1, bx, by (np.ndarray): N x 3 arrays of Bloch vectors.\n",
    "    \n",
    "    Returns:\n",
    "        np.ndarray: N x 12 stacked Bloch vector array.\n",
    "    \"\"\"\n",
    "    # Determine the smallest N\n",
    "    N = min(len(b0), len(b1), len(bx), len(by))\n",
    "    \n",
    "    # Truncate all arrays to the smallest N\n",
    "    b0_truncated = b0[:N]\n",
    "    b1_truncated = b1[:N]\n",
    "    bx_truncated = bx[:N]\n",
    "    by_truncated = by[:N]\n",
    "    \n",
    "    # Stack arrays horizontally (axis=1)\n",
    "    bloch_stack = np.hstack([b0_truncated, b1_truncated, bx_truncated, by_truncated])\n",
    "    \n",
    "    return bloch_stack"
   ]
  },
  {
   "cell_type": "code",
   "execution_count": 105,
   "metadata": {},
   "outputs": [
    {
     "data": {
      "text/plain": [
       "1367"
      ]
     },
     "execution_count": 105,
     "metadata": {},
     "output_type": "execute_result"
    }
   ],
   "source": [
    "Y = stack_bloch_vectors(b0, b1, bx, by)\n",
    "Y.shape[0]\n"
   ]
  },
  {
   "cell_type": "code",
   "execution_count": 113,
   "metadata": {},
   "outputs": [],
   "source": [
    "qubit_freq = 25.133\n",
    "w = 2 * qubit_freq * (freq_num - 1) / 50\n",
    "V0 = 1\n",
    "tspan = np.arange(t0[0], t0[0] + (Y.shape[0]-1) * dt, dt)\n",
    "U = np.array([V0 * np.sin(w * t) for t in tspan])\n"
   ]
  },
  {
   "cell_type": "code",
   "execution_count": 115,
   "metadata": {},
   "outputs": [],
   "source": [
    "Y1 = Y[:-1].T  # All but the last time step (transpose for column alignment)\n",
    "Y2 = Y[1:].T   # All but the first time step (transpose for column alignment)\n",
    "\n",
    "model = biDMD(Y2, Y1, U, tspan)"
   ]
  },
  {
   "cell_type": "code",
   "execution_count": 117,
   "metadata": {},
   "outputs": [
    {
     "data": {
      "text/plain": [
       "(12, 12)"
      ]
     },
     "execution_count": 117,
     "metadata": {},
     "output_type": "execute_result"
    }
   ],
   "source": [
    "model.A.shape"
   ]
  },
  {
   "cell_type": "code",
   "execution_count": 97,
   "metadata": {},
   "outputs": [],
   "source": [
    "from dmdlab import biDMD\n",
    "import numpy as np\n",
    "\n",
    "def apply_biDMD(data, n_dynamics=3, truncate_rank=5):\n",
    "    \"\"\"\n",
    "    Apply bi-DMD to the Bloch vector stack.\n",
    "\n",
    "    Parameters:\n",
    "        data (np.ndarray): N x 12 matrix of Bloch vectors.\n",
    "        n_dynamics (int): Number of dynamic modes to compute.\n",
    "        truncate_rank (int): Rank truncation for SVD.\n",
    "\n",
    "    Returns:\n",
    "        dmd: Fitted biDMD object.\n",
    "    \"\"\"\n",
    "    # Initialize bi-DMD object\n",
    "    dmd = biDMD(n_dynamics=n_dynamics, truncate_rank=truncate_rank)\n",
    "    \n",
    "    # Fit the model to the data\n",
    "    dmd.fit(data)\n",
    "    \n",
    "    return dmd"
   ]
  },
  {
   "cell_type": "code",
   "execution_count": 98,
   "metadata": {},
   "outputs": [
    {
     "ename": "TypeError",
     "evalue": "biDMD.__init__() missing 4 required positional arguments: 'X2', 'X1', 'U', and 'ts'",
     "output_type": "error",
     "traceback": [
      "\u001b[0;31m---------------------------------------------------------------------------\u001b[0m",
      "\u001b[0;31mTypeError\u001b[0m                                 Traceback (most recent call last)",
      "Cell \u001b[0;32mIn[98], line 1\u001b[0m\n\u001b[0;32m----> 1\u001b[0m dmd_model \u001b[38;5;241m=\u001b[39m apply_biDMD(bloch_stack)\n",
      "Cell \u001b[0;32mIn[97], line 17\u001b[0m, in \u001b[0;36mapply_biDMD\u001b[0;34m(data, n_dynamics, truncate_rank)\u001b[0m\n\u001b[1;32m      5\u001b[0m \u001b[38;5;250m\u001b[39m\u001b[38;5;124;03m\"\"\"\u001b[39;00m\n\u001b[1;32m      6\u001b[0m \u001b[38;5;124;03mApply bi-DMD to the Bloch vector stack.\u001b[39;00m\n\u001b[1;32m      7\u001b[0m \n\u001b[0;32m   (...)\u001b[0m\n\u001b[1;32m     14\u001b[0m \u001b[38;5;124;03m    dmd: Fitted biDMD object.\u001b[39;00m\n\u001b[1;32m     15\u001b[0m \u001b[38;5;124;03m\"\"\"\u001b[39;00m\n\u001b[1;32m     16\u001b[0m \u001b[38;5;66;03m# Initialize bi-DMD object\u001b[39;00m\n\u001b[0;32m---> 17\u001b[0m dmd \u001b[38;5;241m=\u001b[39m biDMD(n_dynamics\u001b[38;5;241m=\u001b[39mn_dynamics, truncate_rank\u001b[38;5;241m=\u001b[39mtruncate_rank)\n\u001b[1;32m     19\u001b[0m \u001b[38;5;66;03m# Fit the model to the data\u001b[39;00m\n\u001b[1;32m     20\u001b[0m dmd\u001b[38;5;241m.\u001b[39mfit(data)\n",
      "\u001b[0;31mTypeError\u001b[0m: biDMD.__init__() missing 4 required positional arguments: 'X2', 'X1', 'U', and 'ts'"
     ]
    }
   ],
   "source": [
    "dmd_model = apply_biDMD(bloch_stack)"
   ]
  }
 ],
 "metadata": {
  "kernelspec": {
   "display_name": "base",
   "language": "python",
   "name": "python3"
  },
  "language_info": {
   "codemirror_mode": {
    "name": "ipython",
    "version": 3
   },
   "file_extension": ".py",
   "mimetype": "text/x-python",
   "name": "python",
   "nbconvert_exporter": "python",
   "pygments_lexer": "ipython3",
   "version": "3.11.4"
  }
 },
 "nbformat": 4,
 "nbformat_minor": 2
}
