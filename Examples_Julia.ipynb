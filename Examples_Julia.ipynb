{
 "cells": [
  {
   "cell_type": "code",
   "execution_count": 11,
   "metadata": {},
   "outputs": [
    {
     "data": {
      "text/plain": [
       "read_examples_data (generic function with 1 method)"
      ]
     },
     "metadata": {},
     "output_type": "display_data"
    }
   ],
   "source": [
    "using HDF5\n",
    "using LinearAlgebra\n",
    "\n",
    "# File name (should match the Python script)\n",
    "file_name = \"QbData.h5\"\n",
    "\n",
    "function read_examples_data(file_name)\n",
    "    # Open the HDF5 file and read datasets\n",
    "    h5open(file_name, \"r\") do file\n",
    "        Y1 = read(file[\"Y1\"])\n",
    "        Y2 = read(file[\"Y2\"])\n",
    "        Uy = read(file[\"Uy\"])\n",
    "        return Y1, Y2, Uy\n",
    "    end\n",
    "end "
   ]
  },
  {
   "cell_type": "code",
   "execution_count": 5,
   "metadata": {},
   "outputs": [
    {
     "data": {
      "text/plain": [
       "([0.0 0.0 -1.0; -0.0067893268258513925 0.12081174211125437 -0.9873688632008858; … ; 0.2958830041967634 0.4496502209469271 -0.8180174086911732; 0.1453314394896256 0.4485483872330605 -0.8680783573065066], [-0.0067893268258513925 0.12081174211125437 -0.9873688632008858; -0.09750737214167098 0.19772837038745095 -0.9760786389581715; … ; 0.1453314394896256 0.4485483872330605 -0.8680783573065066; -0.03513761568681435 0.36508952230979097 -0.9024177854511133], [1.0; 0.9385563838770445; … ; -0.566451455811455; -0.8615998483849043;;])"
      ]
     },
     "metadata": {},
     "output_type": "display_data"
    }
   ],
   "source": [
    "Y1, Y2, Uy = read_examples_data(file_name)"
   ]
  },
  {
   "cell_type": "code",
   "execution_count": 7,
   "metadata": {},
   "outputs": [
    {
     "data": {
      "text/plain": [
       "(790, 3)"
      ]
     },
     "metadata": {},
     "output_type": "display_data"
    }
   ],
   "source": [
    "size(Y1)"
   ]
  },
  {
   "cell_type": "code",
   "execution_count": 6,
   "metadata": {},
   "outputs": [
    {
     "data": {
      "text/plain": [
       "biDMD (generic function with 1 method)"
      ]
     },
     "metadata": {},
     "output_type": "display_data"
    }
   ],
   "source": [
    "# Helper function: Column-wise Kronecker product (Khatri-Rao product)\n",
    "\n",
    "function khatri_rao(U, X)\n",
    "\n",
    "    if ndims(U) == 1\n",
    "        U = reshape(U, 1, :)\n",
    "    end\n",
    "\n",
    "    # Input: U ∈ R^(Nc×M), X ∈ R^(n×M)\n",
    "    # Output: U ⊙ X ∈ R^(n*Nc×M)\n",
    "    Nc, M = size(U)\n",
    "    n, Mx = size(X)\n",
    "    if M != Mx\n",
    "        throw(DimensionMismatch(\"Number of columns in U and X must match\"))\n",
    "    end\n",
    "\n",
    "    result = zeros(n * Nc, M)  # Preallocate output matrix\n",
    "    for j in 1:M\n",
    "        result[:, j] = vec(kron(U[:, j], X[:, j]))\n",
    "    end\n",
    "    return result\n",
    "end\n",
    "\n",
    "\n",
    "# Algorithm 1: Bilinear Dynamic Mode Decomposition (biDMD)\n",
    "\n",
    "\"\"\"\n",
    "Main function: Performs Bilinear Dynamic Mode Decomposition (biDMD) to extract intrinsic dynamics (A) and control dynamics (B).\n",
    "\n",
    "Inputs:\n",
    "- X: Snapshot matrix of state data\n",
    "- X_prime: Shifted snapshot matrix of state data\n",
    "- U: Control input matrix\n",
    "- r_tilde: Target rank for SVD on combined matrix Ξ\n",
    "- r_hat: Target rank for SVD on shifted snapshot matrix X_prime\n",
    "\n",
    "Outputs:\n",
    "- Φ: DMD modes\n",
    "- Λ: DMD eigenvalues\n",
    "- A_tilde: Intrinsic dynamics matrix (low-rank approximation)\n",
    "- B_tilde: Control dynamics matrix\n",
    "\"\"\"\n",
    "\n",
    "function biDMD(X, X_prime, U, r_tilde, r_hat)\n",
    "    # Step 1: Debug dimensions\n",
    "    println(\"Dimensions of X: \", size(X))\n",
    "    println(\"Dimensions of X_prime: \", size(X_prime))\n",
    "    println(\"Dimensions of U: \", size(U))\n",
    "\n",
    "    # Compute Khatri-Rao product\n",
    "    U_kron_X = khatri_rao(U, X)\n",
    "    println(\"Dimensions of U_kron_X (Khatri-Rao): \", size(U_kron_X))\n",
    "\n",
    "    # Step 2: Construct combined matrix Ξ\n",
    "    Ξ = vcat(X, U_kron_X)  # Ensure dimensions align\n",
    "    println(\"Dimensions of Ξ: \", size(Ξ))\n",
    "\n",
    "    # Step 3: Perform truncated SVD on Ξ to rank r_tilde\n",
    "    U_tilde, Σ_tilde, V_tilde = svd(Ξ)\n",
    "    U_tilde = U_tilde[:, 1:r_tilde]\n",
    "    Σ_tilde = Σ_tilde[1:r_tilde]\n",
    "    V_tilde = V_tilde[:, 1:r_tilde]\n",
    "\n",
    "    # Decompose U_tilde into U_tilde_A and U_tilde_B\n",
    "    n = size(X, 1)\n",
    "    U_tilde_A = U_tilde[1:n, :]\n",
    "    U_tilde_B = U_tilde[n+1:end, :]\n",
    "\n",
    "    # Step 4: Compute estimates for A and B\n",
    "    A_tilde = X_prime * V_tilde * inv(Diagonal(Σ_tilde)) * U_tilde_A'\n",
    "    B_tilde = X_prime * V_tilde * inv(Diagonal(Σ_tilde)) * U_tilde_B'\n",
    "\n",
    "    # Step 5: Perform truncated SVD on X_prime to rank r_hat\n",
    "    U_hat, Σ_hat, V_hat = svd(X_prime)\n",
    "    U_hat = U_hat[:, 1:r_hat]\n",
    "    Σ_hat = Σ_hat[1:r_hat]\n",
    "    V_hat = V_hat[:, 1:r_hat]\n",
    "\n",
    "    # Step 6: Low-rank approximation for A\n",
    "    A_hat = U_hat' * A_tilde * U_hat\n",
    "\n",
    "    # Step 7: Eigendecomposition of A_hat\n",
    "    W, Λ = eigen(A_hat)\n",
    "\n",
    "    # Step 8: Compute DMD modes Φ\n",
    "    Φ = A_tilde * U_hat * W\n",
    "\n",
    "    return Φ, Λ, A_tilde, B_tilde\n",
    "end\n"
   ]
  },
  {
   "cell_type": "code",
   "execution_count": 12,
   "metadata": {},
   "outputs": [
    {
     "name": "stdout",
     "output_type": "stream",
     "text": [
      "Dimensions of X: (3, 790)\n",
      "Dimensions of X_prime: (3, 790)\n",
      "Dimensions of U: (1, 790)\n",
      "Dimensions of U_kron_X (Khatri-Rao): (3, 790)\n",
      "Dimensions of Ξ: (6, 790)\n"
     ]
    },
    {
     "data": {
      "text/plain": [
       "(ComplexF64[0.2260826966930716 + 0.5235556654539786im, 1.1140845644514379 - 0.006157242186946766im, 1.1410066330119453 - 0.09843345678821055im], ComplexF64[-0.002464731634310611 + 0.6938898562072803im -0.002464731634310611 - 0.6938898562072803im 0.20143556012543387 + 0.0im; -0.6968248486373606 - 0.0im -0.6968248486373606 + 0.0im 0.03623139387099492 + 0.0im; -0.031313735598331185 - 0.17878862613434743im -0.031313735598331185 + 0.17878862613434743im 0.9788314467849495 + 0.0im], [0.920188337831139 0.38610613958711965 -0.006484415695506784; -0.3684139594937002 0.9076421380280718 0.02356172106639015; -0.011400020857109366 0.0053050073855349655 0.9767678812967444], [0.010956532284682123 0.00391188764151054 0.059053862259440336; -0.004106102392455591 0.015274878765980918 -0.07302490773301522; 0.09651837571171851 -0.06372312953194337 0.1283000427935174])"
      ]
     },
     "metadata": {},
     "output_type": "display_data"
    }
   ],
   "source": [
    "Φ, Λ, A_tilde, B_tilde = biDMD(Y2', Y1', Uy', 3, 3)"
   ]
  },
  {
   "cell_type": "code",
   "execution_count": 15,
   "metadata": {},
   "outputs": [
    {
     "data": {
      "text/plain": [
       "3×3 Matrix{Float64}:\n",
       "  0.920188  0.386106    -0.00648442\n",
       " -0.368414  0.907642     0.0235617\n",
       " -0.0114    0.00530501   0.976768"
      ]
     },
     "metadata": {},
     "output_type": "display_data"
    }
   ],
   "source": [
    "A_tilde"
   ]
  },
  {
   "cell_type": "code",
   "execution_count": 16,
   "metadata": {},
   "outputs": [
    {
     "data": {
      "text/plain": [
       "3×3 Matrix{Float64}:\n",
       "  0.0109565   0.00391189   0.0590539\n",
       " -0.0041061   0.0152749   -0.0730249\n",
       "  0.0965184  -0.0637231    0.1283"
      ]
     },
     "metadata": {},
     "output_type": "display_data"
    }
   ],
   "source": [
    "B_tilde"
   ]
  }
 ],
 "metadata": {
  "kernelspec": {
   "display_name": "Julia 1.10.2",
   "language": "julia",
   "name": "julia-1.10"
  },
  "language_info": {
   "file_extension": ".jl",
   "mimetype": "application/julia",
   "name": "julia",
   "version": "1.10.2"
  }
 },
 "nbformat": 4,
 "nbformat_minor": 2
}
